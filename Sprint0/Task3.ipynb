{
 "cells": [
  {
   "cell_type": "markdown",
   "metadata": {},
   "source": [
    "<h1 style=\"color:DodgerBlue\">Индивидальный проект</h1>"
   ]
  },
  {
   "cell_type": "markdown",
   "metadata": {},
   "source": [
    "<h2 style=\"color:DodgerBlue\">Название проекта:</h2>\n",
    "\n",
    "----\n",
    "\n",
    "### Вариант задания 21\n"
   ]
  },
  {
   "cell_type": "markdown",
   "metadata": {},
   "source": [
    "<h2 style=\"color:DodgerBlue\">Описание проекта:</h2>\n",
    "\n",
    "----\n",
    "\n",
    "Описание задачи:\n",
    "Создать базовый класс Ticket в C#, который будет представлять билеты на\n",
    "различные мероприятия. На основе этого класса разработать 2-3 производных\n",
    "класса, демонстрирующих принципы наследования и полиморфизма. В каждом из\n",
    "классов должны быть реализованы новые атрибуты и методы, а также\n",
    "переопределены некоторые методы базового класса для демонстрации\n",
    "полиморфизма.\n",
    "\n",
    "Требования к базовому классу Ticket:\n",
    "\n",
    "• Атрибуты: ID билета (TicketId), Номер ряда (RowNumber), Номер места\n",
    "(SeatNumber).\n",
    "\n",
    "• Методы:\n",
    "\n",
    "o PrintTicketInfo(): метод для печати информации о билете.\n",
    "\n",
    "o ReserveSeat(): метод для резервирования места.\n",
    "\n",
    "o GetTicketDetails(): метод для получения деталей билета.\n",
    "\n",
    "Требования к производным классам:\n",
    "1. БилетНаКонцерт (ConcertTicket): Должен содержать дополнительные\n",
    "атрибуты, такие как Имя исполнителя (ArtistName).\n",
    "Метод PrintTicketInfo() должен быть переопределен для включения имени\n",
    "исполнителя в информацию о билете.\n",
    "\n",
    "2. БилетНаСпектакль (PlayTicket): Должен содержать дополнительные\n",
    "атрибуты, такие как Название спектакля (PlayTitle).\n",
    "Метод GetTicketDetails() должен быть переопределен для отображения\n",
    "названия спектакля вместе с другими деталями билета.\n",
    "\n",
    "3. БилетНаКонференцию (ConferenceTicket) (если требуется третий класс):\n",
    "Должен содержать дополнительные атрибуты, такие как Название\n",
    "конференции (ConferenceName). Метод ReserveSeat() должен быть\n",
    "переопределен для добавления информации о предпочтениях участника\n",
    "относительно мест.\n"
   ]
  },
  {
   "cell_type": "markdown",
   "metadata": {},
   "source": [
    "<h2 style=\"color:DodgerBlue\">Реализация:</h2>\n",
    "\n",
    "----"
   ]
  },
  {
   "cell_type": "code",
   "execution_count": 2,
   "metadata": {
    "dotnet_interactive": {
     "language": "csharp"
    },
    "polyglot_notebook": {
     "kernelName": "csharp"
    }
   },
   "outputs": [],
   "source": [
    "public class Ticket\n",
    "{\n",
    "    public int TicketId{get;set;}\n",
    "\n",
    "    public int RowNumber{get;set;}\n",
    "\n",
    "    public int SeatNumber{get;set;}\n",
    "\n",
    "    public virtual void PrintTicketInfo()\n",
    "    {\n",
    "        Console.WriteLine($\"Номер билета: {TicketId}, Ряд: {RowNumber}, Место: {SeatNumber}\");\n",
    "    }\n",
    "\n",
    "    public virtual void ReserveSeat()\n",
    "    {\n",
    "        Console.WriteLine(\"Место забронировано\");\n",
    "    }\n",
    "\n",
    "    public virtual string GetTicketDetails()\n",
    "    {\n",
    "        return $\"Номер билета: {TicketId}, Ряд: {RowNumber}, Место: {SeatNumber}\";\n",
    "    }\n",
    "}\n",
    "\n",
    "public class ConcertTicket : Ticket\n",
    "{\n",
    "    public string ArtistName{ get; set;}\n",
    "\n",
    "    public override void PrintTicketInfo()\n",
    "    {\n",
    "        base.PrintTicketInfo();\n",
    "        Console.WriteLine($\"Имя исполнителя: {ArtistName}\");\n",
    "    }\n",
    "}\n",
    "\n",
    "public class PlayTicket : Ticket\n",
    "{\n",
    "    public string PlayTitle{ get; set;}\n",
    "\n",
    "    public override string GetTicketDetails()\n",
    "    {\n",
    "        base.GetTicketDetails();\n",
    "        return $\"Название спектакля: {PlayTitle}\";\n",
    "    }\n",
    "}\n",
    "\n",
    "public class ConferenceTicket : Ticket\n",
    "{\n",
    "    public string ConferenceName{ get; set;}\n",
    "    private string PreferredSeatLocation { get; set; }\n",
    "\n",
    "    public override void ReserveSeat()\n",
    "    {\n",
    "        base.ReserveSeat();\n",
    "        Console.WriteLine($\"Предпочетние относительно мест: {PreferredSeatLocation}\");\n",
    "    }\n",
    "}\n"
   ]
  }
 ],
 "metadata": {
  "kernelspec": {
   "display_name": ".NET (C#)",
   "language": "C#",
   "name": ".net-csharp"
  },
  "polyglot_notebook": {
   "kernelInfo": {
    "defaultKernelName": "csharp",
    "items": [
     {
      "aliases": [],
      "languageName": "csharp",
      "name": "csharp"
     }
    ]
   }
  }
 },
 "nbformat": 4,
 "nbformat_minor": 2
}
